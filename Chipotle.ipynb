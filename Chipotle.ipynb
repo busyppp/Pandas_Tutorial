{
  "cells": [
    {
      "cell_type": "markdown",
      "id": "804e168f",
      "metadata": {
        "id": "804e168f"
      },
      "source": [
        "### Step 1. Import the necessary libraries"
      ]
    },
    {
      "cell_type": "code",
      "execution_count": null,
      "id": "be0eff0c",
      "metadata": {
        "id": "be0eff0c"
      },
      "outputs": [],
      "source": [
        "import pandas as pd"
      ]
    },
    {
      "cell_type": "markdown",
      "id": "224796c3",
      "metadata": {
        "id": "224796c3"
      },
      "source": [
        "### Step 2. Import the dataset from https://raw.githubusercontent.com/justmarkham/DAT8/master/data/chipotle.tsv\n",
        "### Step 3. Assign it to a variable called chipo."
      ]
    },
    {
      "cell_type": "code",
      "execution_count": null,
      "id": "bb0b47e6",
      "metadata": {
        "id": "bb0b47e6"
      },
      "outputs": [],
      "source": [
        ""
      ]
    },
    {
      "cell_type": "markdown",
      "id": "ec18d38c",
      "metadata": {
        "id": "ec18d38c"
      },
      "source": [
        "### Step 4. See the first 10 entries"
      ]
    },
    {
      "cell_type": "code",
      "execution_count": null,
      "id": "071c4c7a",
      "metadata": {
        "id": "071c4c7a"
      },
      "outputs": [],
      "source": [
        ""
      ]
    },
    {
      "cell_type": "markdown",
      "id": "2f8f7096",
      "metadata": {
        "id": "2f8f7096"
      },
      "source": [
        "### Step 5. What is the number of observations in the dataset?"
      ]
    },
    {
      "cell_type": "code",
      "execution_count": null,
      "id": "185af3c3",
      "metadata": {
        "id": "185af3c3"
      },
      "outputs": [],
      "source": [
        ""
      ]
    },
    {
      "cell_type": "code",
      "execution_count": null,
      "id": "b409d0e4",
      "metadata": {
        "id": "b409d0e4"
      },
      "outputs": [],
      "source": [
        ""
      ]
    },
    {
      "cell_type": "markdown",
      "id": "7dbaf885",
      "metadata": {
        "id": "7dbaf885"
      },
      "source": [
        "### Step 6. What is the number of columns in the dataset?"
      ]
    },
    {
      "cell_type": "code",
      "execution_count": null,
      "id": "6a3bc421",
      "metadata": {
        "id": "6a3bc421"
      },
      "outputs": [],
      "source": [
        ""
      ]
    },
    {
      "cell_type": "markdown",
      "id": "989b58a0",
      "metadata": {
        "id": "989b58a0"
      },
      "source": [
        "### Step 7. Print the name of all the columns."
      ]
    },
    {
      "cell_type": "code",
      "execution_count": null,
      "id": "c54308fa",
      "metadata": {
        "id": "c54308fa"
      },
      "outputs": [],
      "source": [
        ""
      ]
    },
    {
      "cell_type": "markdown",
      "id": "b13918eb",
      "metadata": {
        "id": "b13918eb"
      },
      "source": [
        "### Step 8. How is the dataset indexed?"
      ]
    },
    {
      "cell_type": "code",
      "execution_count": null,
      "id": "ab0e0dac",
      "metadata": {
        "id": "ab0e0dac"
      },
      "outputs": [],
      "source": [
        ""
      ]
    },
    {
      "cell_type": "markdown",
      "id": "70fde9f0",
      "metadata": {
        "id": "70fde9f0"
      },
      "source": [
        "### Step 9. Which was the most-ordered item?"
      ]
    },
    {
      "cell_type": "code",
      "execution_count": null,
      "id": "b462b2e8",
      "metadata": {
        "id": "b462b2e8"
      },
      "outputs": [],
      "source": [
        ""
      ]
    },
    {
      "cell_type": "markdown",
      "id": "b197df14",
      "metadata": {
        "id": "b197df14"
      },
      "source": [
        "### Step 10. For the most-ordered item, how many items were ordered?"
      ]
    },
    {
      "cell_type": "code",
      "execution_count": null,
      "id": "a34cab6f",
      "metadata": {
        "id": "a34cab6f"
      },
      "outputs": [],
      "source": [
        ""
      ]
    },
    {
      "cell_type": "markdown",
      "id": "31fafd41",
      "metadata": {
        "id": "31fafd41"
      },
      "source": [
        "### Step 11. What was the most ordered item in the choice_description column?"
      ]
    },
    {
      "cell_type": "code",
      "execution_count": null,
      "id": "dd9816b3",
      "metadata": {
        "id": "dd9816b3"
      },
      "outputs": [],
      "source": [
        ""
      ]
    },
    {
      "cell_type": "markdown",
      "id": "2e581b50",
      "metadata": {
        "id": "2e581b50"
      },
      "source": [
        "### Step 12. How many items were orderd in total?"
      ]
    },
    {
      "cell_type": "code",
      "execution_count": null,
      "id": "cccc904d",
      "metadata": {
        "id": "cccc904d"
      },
      "outputs": [],
      "source": [
        ""
      ]
    },
    {
      "cell_type": "markdown",
      "id": "b667f742",
      "metadata": {
        "id": "b667f742"
      },
      "source": [
        "### Step 13. Turn the item price into a float\n",
        "### Step 13.a. Check the item price type"
      ]
    },
    {
      "cell_type": "code",
      "execution_count": null,
      "id": "67a3ebba",
      "metadata": {
        "id": "67a3ebba"
      },
      "outputs": [],
      "source": [
        ""
      ]
    },
    {
      "cell_type": "markdown",
      "id": "027d1e6b",
      "metadata": {
        "id": "027d1e6b"
      },
      "source": [
        "### Step 13.b. Create a lambda function and change the type of item price"
      ]
    },
    {
      "cell_type": "code",
      "execution_count": null,
      "id": "51807b8d",
      "metadata": {
        "id": "51807b8d"
      },
      "outputs": [],
      "source": [
        ""
      ]
    },
    {
      "cell_type": "markdown",
      "id": "6744dae3",
      "metadata": {
        "id": "6744dae3"
      },
      "source": [
        "### Step 13.c. Check the item price type"
      ]
    },
    {
      "cell_type": "code",
      "execution_count": null,
      "id": "96ff6acb",
      "metadata": {
        "id": "96ff6acb"
      },
      "outputs": [],
      "source": [
        ""
      ]
    },
    {
      "cell_type": "markdown",
      "id": "f6b9b03a",
      "metadata": {
        "id": "f6b9b03a"
      },
      "source": [
        "### Step 14. How much was the revenue for the period in the dataset?"
      ]
    },
    {
      "cell_type": "code",
      "execution_count": null,
      "id": "410fd29d",
      "metadata": {
        "id": "410fd29d"
      },
      "outputs": [],
      "source": [
        ""
      ]
    },
    {
      "cell_type": "markdown",
      "id": "a79d2feb",
      "metadata": {
        "id": "a79d2feb"
      },
      "source": [
        "### Step 15. How many orders were made in the period?"
      ]
    },
    {
      "cell_type": "code",
      "execution_count": null,
      "id": "ac11bfc8",
      "metadata": {
        "id": "ac11bfc8"
      },
      "outputs": [],
      "source": [
        ""
      ]
    },
    {
      "cell_type": "markdown",
      "id": "51d22161",
      "metadata": {
        "id": "51d22161"
      },
      "source": [
        "### Step 16. What is the average revenue amount per order?"
      ]
    },
    {
      "cell_type": "code",
      "execution_count": null,
      "id": "8ab5d277",
      "metadata": {
        "id": "8ab5d277"
      },
      "outputs": [],
      "source": [
        ""
      ]
    },
    {
      "cell_type": "code",
      "execution_count": null,
      "id": "65a40c93",
      "metadata": {
        "id": "65a40c93"
      },
      "outputs": [],
      "source": [
        ""
      ]
    },
    {
      "cell_type": "markdown",
      "id": "5a4f1182",
      "metadata": {
        "id": "5a4f1182"
      },
      "source": [
        "### Step 17. How many different items are sold?"
      ]
    },
    {
      "cell_type": "code",
      "execution_count": null,
      "id": "102f4f44",
      "metadata": {
        "id": "102f4f44"
      },
      "outputs": [],
      "source": [
        ""
      ]
    }
  ],
  "metadata": {
    "kernelspec": {
      "display_name": "Python 3 (ipykernel)",
      "language": "python",
      "name": "python3"
    },
    "language_info": {
      "codemirror_mode": {
        "name": "ipython",
        "version": 3
      },
      "file_extension": ".py",
      "mimetype": "text/x-python",
      "name": "python",
      "nbconvert_exporter": "python",
      "pygments_lexer": "ipython3",
      "version": "3.9.5"
    },
    "colab": {
      "name": "Chipotle.ipynb",
      "provenance": []
    }
  },
  "nbformat": 4,
  "nbformat_minor": 5
}